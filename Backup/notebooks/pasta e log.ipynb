{
 "cells": [
  {
   "cell_type": "code",
   "execution_count": 41,
   "id": "16e80ffa-0276-47d2-aca5-a652b206d7be",
   "metadata": {},
   "outputs": [
    {
     "name": "stdout",
     "output_type": "stream",
     "text": [
      "2025-02-28\n"
     ]
    }
   ],
   "source": [
    "from datetime import datetime\n",
    "from pathlib import Path\n",
    "import os\n",
    "\n",
    "data = datetime.now().strftime('%Y-%m-%d')  # Exemplo: 2025-02-28\n",
    "print(data)"
   ]
  },
  {
   "cell_type": "code",
   "execution_count": 42,
   "id": "7912d3c2-a0b3-479c-80c7-9f05ec88507d",
   "metadata": {},
   "outputs": [],
   "source": [
    "def criar_pasta(): #cria a estrutra de pastas (UnidadeDisco:/Backup/Dia)\n",
    "    \n",
    "    unidade_backup = \"C:/\" #unidade de disco onde será armazenado o backup\n",
    "    pasta_uni_disco = Path(unidade_backup)/ \"Backup\"  #Cria dentro da unidade de disco a pasta \"Backup\"\n",
    "    \n",
    "    # Criar a pasta, caso não exista\n",
    "    pasta_uni_disco.mkdir(parents = True, exist_ok = True)\n",
    "\n",
    "    # Criar dentro da pasta \"Backup\" uma pasta com a data atual\n",
    "    pasta_backup = Path(pasta_uni_disco) / data #criar dentro da pasta \"Backup\" uma pasta com a data que será feito o backup\n",
    "    pasta_backup.mkdir(parents = True, exist_ok = True)\n",
    "\n",
    "    return pasta_backup #retorna o valor past_backup(caminho)"
   ]
  },
  {
   "cell_type": "code",
   "execution_count": null,
   "id": "a3a8e33f-007c-481d-a85e-11bb6a7837a3",
   "metadata": {},
   "outputs": [],
   "source": []
  },
  {
   "cell_type": "code",
   "execution_count": 43,
   "id": "ec639a90-a7bf-42fc-b586-4230fc8bc178",
   "metadata": {},
   "outputs": [],
   "source": [
    "def criar_log(caminho_pasta): #Criar o arquivo log\n",
    "    inicio_backup = datetime.now().strftime(\"%d-%m-%Y %H:%M\")\n",
    "    \n",
    "    conteudo = f\"\"\"\n",
    "    Backup Iniciado em: {inicio_backup}\n",
    "    Origem dos Arquivos: #colocar aqui a pasta que será feito o backup\n",
    "    Caminho Destino: \n",
    "    \n",
    "    Arquivos/ Pastas incluídos:  \n",
    "    Listar todos os arquivos\n",
    "    \n",
    "    Tamanho total do backup: #informar o tamanho \n",
    "    Tempo de Execução: x minutos\n",
    "    \n",
    "    Resumo:\n",
    "    Arquivos compactados: #numero de arquivos compactados\n",
    "    Pastas compactadas: #numero de pastas compactados\n",
    "    \n",
    "    Status: Concluído com Sucesso #informar se foi feito ou não\n",
    "    Backup concluído em:\n",
    "    \"\"\"\n",
    "    fim_backup = datetime.now().strftime(\"%d-%m-%Y %H:%M\")\n",
    "    \n",
    "    #caminho completo para cirar o log\n",
    "    arquivo_log = os.path.join(caminho_pasta, \"arquivo_log.txt\")\n",
    "    \n",
    "    #Criar e escrever no log\n",
    "    with open(arquivo_log, \"w\") as log:\n",
    "        log.write(conteudo)\n",
    "        \n"
   ]
  },
  {
   "cell_type": "code",
   "execution_count": 44,
   "id": "067126cd-c076-44cc-aedc-4bed8c38e7e2",
   "metadata": {},
   "outputs": [],
   "source": [
    "caminho_pasta = criar_pasta() # Cria a pasta e retorna o caminho\n",
    "criar_log(caminho_pasta) #caminho_pasta é passado como argumento"
   ]
  },
  {
   "cell_type": "code",
   "execution_count": 25,
   "id": "c9e054aa-6c27-4f17-a979-b7e1ed900b97",
   "metadata": {},
   "outputs": [
    {
     "data": {
      "text/plain": [
       "'.ipynb_checkpoints, Backups, build, Dados-Etiquetas.xlsx, GeradorEtiquetas.py, GeradorEtiquetas.spec, imagens, Jupyter Notebook, LeitorDados.py, PDFs_Gerados, Pipfile, poppler-24.08.0, REQUEST .txt, teste.py, __pycache__'"
      ]
     },
     "execution_count": 25,
     "metadata": {},
     "output_type": "execute_result"
    }
   ],
   "source": [
    "#Listagem de todos os arquivos e pasta que contem no diretorio\n",
    "import os\n",
    "arquivos = os.listdir(r\"\") #lista os itens presentes dentro de um diretório\n",
    "arquivos = \", \".join(arquivos) #transforma os elementos da lista em str\n",
    "arquivos"
   ]
  },
  {
   "cell_type": "code",
   "execution_count": 19,
   "id": "82ca0d8e-35cd-49e3-9907-f5375a57cd08",
   "metadata": {},
   "outputs": [],
   "source": []
  },
  {
   "cell_type": "code",
   "execution_count": 20,
   "id": "c99c39b7-ea94-4c0b-9784-04c1e358cd42",
   "metadata": {},
   "outputs": [
    {
     "name": "stdout",
     "output_type": "stream",
     "text": [
      "arquivo_log.txt\n"
     ]
    }
   ],
   "source": []
  }
 ],
 "metadata": {
  "kernelspec": {
   "display_name": "Python 3 (ipykernel)",
   "language": "python",
   "name": "python3"
  },
  "language_info": {
   "codemirror_mode": {
    "name": "ipython",
    "version": 3
   },
   "file_extension": ".py",
   "mimetype": "text/x-python",
   "name": "python",
   "nbconvert_exporter": "python",
   "pygments_lexer": "ipython3",
   "version": "3.12.6"
  }
 },
 "nbformat": 4,
 "nbformat_minor": 5
}

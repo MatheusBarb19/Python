{
 "cells": [
  {
   "cell_type": "code",
   "execution_count": 11,
   "id": "56d91dba-bb86-4bea-90b9-a253afe0ebd2",
   "metadata": {},
   "outputs": [],
   "source": [
    "import shutil #biblioteca que vem com python\n",
    "import os\n"
   ]
  },
  {
   "cell_type": "code",
   "execution_count": 12,
   "id": "bb1d2737-d51a-4807-a031-141bcfd35bb4",
   "metadata": {},
   "outputs": [],
   "source": [
    "destino = r\"C:\\Backup\\2025-03-03\""
   ]
  },
  {
   "cell_type": "code",
   "execution_count": 13,
   "id": "4e9feebe-f7d1-4086-a792-d8638c09b86e",
   "metadata": {},
   "outputs": [],
   "source": [
    "#Compactando o diretório com ZIP\n",
    "def compactar_diretorio(destino):\n",
    "    # Caminho do arquivo compactado (sem a extensão .zip)\n",
    "    arquivo_compacto = destino  # Não adicione a extensão .zip aqui\n",
    "    \n",
    "    # Compacta a pasta destino no formato .zip\n",
    "    shutil.make_archive(arquivo_compacto, \"zip\", destino)\n"
   ]
  },
  {
   "cell_type": "code",
   "execution_count": 14,
   "id": "0c8c49c6-18f1-4b92-be4c-0777e77f3b77",
   "metadata": {},
   "outputs": [],
   "source": [
    "#Excluindo o arquivo antigo\n",
    "def excluir_diretorio(destino):\n",
    "    try:\n",
    "        shutil.rmtree(destino)\n",
    "        \n",
    "    except OSError as e:\n",
    "        # Informe o usuário sobre quaisquer erros\n",
    "        print(f\"Erro: {e.filename} - {e.strerror}\")"
   ]
  },
  {
   "cell_type": "code",
   "execution_count": 15,
   "id": "b086f89d-a979-4069-a9f0-94de68864e7a",
   "metadata": {},
   "outputs": [],
   "source": [
    "compactar_diretorio(destino)"
   ]
  },
  {
   "cell_type": "code",
   "execution_count": 16,
   "id": "878e428e-3a40-493f-a0be-cb3ee75f7585",
   "metadata": {},
   "outputs": [],
   "source": [
    "excluir_diretorio(destino)"
   ]
  },
  {
   "cell_type": "code",
   "execution_count": null,
   "id": "8be2a22b-6c5a-4fd1-b156-9dda163d8463",
   "metadata": {},
   "outputs": [],
   "source": []
  }
 ],
 "metadata": {
  "kernelspec": {
   "display_name": "Python 3 (ipykernel)",
   "language": "python",
   "name": "python3"
  },
  "language_info": {
   "codemirror_mode": {
    "name": "ipython",
    "version": 3
   },
   "file_extension": ".py",
   "mimetype": "text/x-python",
   "name": "python",
   "nbconvert_exporter": "python",
   "pygments_lexer": "ipython3",
   "version": "3.12.6"
  }
 },
 "nbformat": 4,
 "nbformat_minor": 5
}

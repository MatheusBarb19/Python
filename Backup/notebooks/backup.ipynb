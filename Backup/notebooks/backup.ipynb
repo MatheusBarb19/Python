{
 "cells": [
  {
   "cell_type": "code",
   "execution_count": 3,
   "id": "97f15ebf-e996-4ef0-8281-cb6ce6df530f",
   "metadata": {},
   "outputs": [],
   "source": [
    "import shutil #Disponibiliza recursos entre pastas\n",
    "import os"
   ]
  },
  {
   "cell_type": "code",
   "execution_count": 1,
   "id": "aef15764-db15-4a27-87fa-a59b4f2fcd82",
   "metadata": {},
   "outputs": [],
   "source": [
    "#definir pastas que será feito backup  \n",
    "origem = r\"C:\\Users\\importacao7\\Desktop\\Projetos\\Projetos Python\\Criptografia\" #Pasta alvo do Backup\n",
    "destino = r\"C:\\Backup\\2025-03-06\" #Enderço onde será salvo"
   ]
  },
  {
   "cell_type": "code",
   "execution_count": 25,
   "id": "044cc903-7797-48f1-80c0-3b1b7f33170c",
   "metadata": {},
   "outputs": [],
   "source": [
    "# Função para realizar o backup\n",
    "def gerar_backup(origem, destino):\n",
    "    # Verifica se o diretório de destino não existe e cria\n",
    "    if not os.path.exists(destino):\n",
    "        os.makedirs(destino)\n",
    "    \n",
    "    # Listagem de todos os arquivos e pastas dentro do diretório de origem\n",
    "    arquivos = os.listdir(origem)  # Lista os itens presentes dentro de um diretório\n",
    "    #arquivos = \", \".join(arquivos) #transforma os elementos da lista em str\n",
    "    \n",
    "    for arquivo in arquivos:  # Para cada item na lista 'arquivos'\n",
    "        caminho_origem = os.path.join(origem, arquivo)  # Caminho completo do item na origem\n",
    "        caminho_destino = os.path.join(destino, arquivo)  # Caminho completo do item no destino\n",
    "        \n",
    "        # Verifica se é um diretório\n",
    "        if os.path.isdir(caminho_origem):\n",
    "            # Se for diretório, chama recursivamente a função para fazer o backup\n",
    "            gerar_backup(caminho_origem, caminho_destino)\n",
    "        else:\n",
    "            # Se for arquivo, copia o arquivo para o destino\n",
    "            shutil.copy2(caminho_origem, caminho_destino)  # Copia o arquivo da origem para o destino"
   ]
  },
  {
   "cell_type": "code",
   "execution_count": 26,
   "id": "5f8bdf30-5132-4187-ad7a-40a6e200edfb",
   "metadata": {},
   "outputs": [
    {
     "name": "stdout",
     "output_type": "stream",
     "text": [
      "Processo de Backup Concluído com Sucesso!\n"
     ]
    }
   ],
   "source": [
    "gerar_backup(origem, destino)#informa a variável \"arquivos\" como parâmetro\n",
    "print(\"Processo de Backup Concluído com Sucesso!\")"
   ]
  },
  {
   "cell_type": "code",
   "execution_count": null,
   "id": "29e189e9-f569-4095-bb45-b9e7b303114e",
   "metadata": {},
   "outputs": [],
   "source": []
  }
 ],
 "metadata": {
  "kernelspec": {
   "display_name": "Python 3 (ipykernel)",
   "language": "python",
   "name": "python3"
  },
  "language_info": {
   "codemirror_mode": {
    "name": "ipython",
    "version": 3
   },
   "file_extension": ".py",
   "mimetype": "text/x-python",
   "name": "python",
   "nbconvert_exporter": "python",
   "pygments_lexer": "ipython3",
   "version": "3.12.6"
  }
 },
 "nbformat": 4,
 "nbformat_minor": 5
}

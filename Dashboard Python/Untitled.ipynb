{
 "cells": [
  {
   "cell_type": "code",
   "execution_count": 29,
   "id": "85ca161e-8282-485b-8bbb-472ef26ac88c",
   "metadata": {},
   "outputs": [],
   "source": [
    "import pandas as pd\n",
    "import matplotlib.pyplot as plt\n",
    "\n",
    "#Lendo df com Pandas\n",
    "df = pd.read_csv(r\"C:\\Users\\mathe\\Documents\\GitHub\\Python\\Dashboard Python\\Municipios_brasileiros2020.csv\")\n"
   ]
  },
  {
   "cell_type": "code",
   "execution_count": 30,
   "id": "40c2d7c4-952e-48d2-b3b9-cefe110bd487",
   "metadata": {},
   "outputs": [
    {
     "name": "stderr",
     "output_type": "stream",
     "text": [
      "C:\\Users\\mathe\\AppData\\Local\\Temp\\ipykernel_19372\\2223500399.py:16: UserWarning: FigureCanvasAgg is non-interactive, and thus cannot be shown\n",
      "  plt.show()\n"
     ]
    }
   ],
   "source": [
    "#top 10 municipios com maior Pib\n",
    "\n",
    "# Limpar e formatar a coluna de PIB\n",
    "df['PIB'] = df['Produto Interno Bruto\\na preços correntes\\n(1 000 R$)'].str.replace(' ', '').astype(int)\n",
    "\n",
    "# Ordenar pelos maiores PIBs e selecionar o Top 10\n",
    "top_10 = df.sort_values(by='PIB', ascending=False).head(10)\n",
    "\n",
    "# Criar o gráfico de barras\n",
    "plt.figure(figsize=(10, 6))\n",
    "plt.barh(top_10['Municípios e respectivas\\nUnidades da Federação'], top_10['PIB'], color='royalblue')\n",
    "plt.xlabel('PIB (em milhares de R$)')\n",
    "plt.ylabel('Municípios')\n",
    "plt.title('Top 10 Municípios com Maior PIB no Brasil')\n",
    "plt.gca().invert_yaxis()  # Inverte o eixo Y para mostrar o maior no topo\n",
    "plt.show()\n",
    "\n",
    "                                                        \n",
    "#Distribuição de PIB por estado\n",
    "\n",
    "#Concetração de Riqueza\n",
    "\n",
    "#Comparação entre municipios\n",
    "\n",
    "#Distribuição do Pib"
   ]
  },
  {
   "cell_type": "code",
   "execution_count": 31,
   "id": "5f87f6c6-ccb6-42cf-bd98-d6f084277875",
   "metadata": {},
   "outputs": [],
   "source": [
    "!code .\n"
   ]
  }
 ],
 "metadata": {
  "kernelspec": {
   "display_name": "Python 3 (ipykernel)",
   "language": "python",
   "name": "python3"
  },
  "language_info": {
   "codemirror_mode": {
    "name": "ipython",
    "version": 3
   },
   "file_extension": ".py",
   "mimetype": "text/x-python",
   "name": "python",
   "nbconvert_exporter": "python",
   "pygments_lexer": "ipython3",
   "version": "3.12.6"
  }
 },
 "nbformat": 4,
 "nbformat_minor": 5
}
